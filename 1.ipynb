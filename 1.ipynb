>>> vec1 = np.array([1., 3., 5.])
>>> vec1 * 2
